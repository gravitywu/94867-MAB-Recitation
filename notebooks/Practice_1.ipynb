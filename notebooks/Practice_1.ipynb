{
  "nbformat": 4,
  "nbformat_minor": 0,
  "metadata": {
    "colab": {
      "provenance": []
    },
    "kernelspec": {
      "name": "python3",
      "display_name": "Python 3"
    },
    "language_info": {
      "name": "python"
    }
  },
  "cells": [
    {
      "cell_type": "markdown",
      "source": [
        "# Practice Session 1: Policy and Value Iteration\n",
        "\n",
        "[![Open In Colab](https://colab.research.google.com/assets/colab-badge.svg)](https://colab.research.google.com/github/rlsummerschool/practical-sessions/blob/master/notebooks/Practice_1.ipynb)"
      ],
      "metadata": {
        "id": "Hr2tPjlrf-rP"
      }
    },
    {
      "cell_type": "code",
      "source": [
        "# Set up the environment\n",
        "# TODO: this will point to rlsummerschool's repo, once it's made bublic\n",
        "!pip install \"git+https://github.com/cipollone/rlss-practice1.git\" --quiet\n",
        "\n",
        "import time\n",
        "import random"
      ],
      "metadata": {
        "id": "VYZ_hFDkXuY0",
        "outputId": "497a7207-bd0e-42c7-81b5-aa7c61599a1f",
        "colab": {
          "base_uri": "https://localhost:8080/"
        }
      },
      "execution_count": 1,
      "outputs": [
        {
          "output_type": "stream",
          "name": "stdout",
          "text": [
            "  Installing build dependencies ... \u001b[?25l\u001b[?25hdone\n",
            "  Getting requirements to build wheel ... \u001b[?25l\u001b[?25hdone\n",
            "  Preparing metadata (pyproject.toml) ... \u001b[?25l\u001b[?25hdone\n",
            "\u001b[2K     \u001b[90m━━━━━━━━━━━━━━━━━━━━━━━━━━━━━━━━━━━━━━━\u001b[0m \u001b[32m103.1/103.1 kB\u001b[0m \u001b[31m2.1 MB/s\u001b[0m eta \u001b[36m0:00:00\u001b[0m\n",
            "\u001b[2K     \u001b[90m━━━━━━━━━━━━━━━━━━━━━━━━━━━━━━━━━━━━━━\u001b[0m \u001b[32m925.5/925.5 kB\u001b[0m \u001b[31m17.2 MB/s\u001b[0m eta \u001b[36m0:00:00\u001b[0m\n",
            "\u001b[2K     \u001b[90m━━━━━━━━━━━━━━━━━━━━━━━━━━━━━━━━━━━━━━━━\u001b[0m \u001b[32m13.8/13.8 MB\u001b[0m \u001b[31m25.2 MB/s\u001b[0m eta \u001b[36m0:00:00\u001b[0m\n",
            "\u001b[?25h  Building wheel for rlss-practice (pyproject.toml) ... \u001b[?25l\u001b[?25hdone\n"
          ]
        }
      ]
    },
    {
      "cell_type": "markdown",
      "source": [
        "## RL development in Python\n",
        "\n",
        "Large RL projects are usually developed locally, as any other Python package, in OOP, version controlled by Git (see [example](https://github.com/rlsummerschool/practical-sessions/blob/master/rlss_practice/environments.py)).\n",
        "\n",
        "[Jupyter](https://jupyter.org/) notebooks, like this one, are collections of text cells and code cells, that can be executed with an interactive interpreter.\n",
        "Colab notebooks are Jupyter notebooks whose interpreter runs in a runtime that is hosted by Google."
      ],
      "metadata": {
        "id": "CFtCdzEI9gHZ"
      }
    },
    {
      "cell_type": "markdown",
      "source": [
        "### Environments and tasks\n",
        "\n",
        "An MDP is a model of Reinforcement Learning tasks. It comprises:\n",
        "* a finite **state space** $\\mathcal{S}$\n",
        "* a finite **action space** $\\mathcal{A}$\n",
        "* a **starting-state distribution** $\\nu_0(s)$\n",
        "* a **reward function** $r: \\mathcal{S}\\times\\mathcal{A}\\rightarrow [0,1]$ (or vector $r\\in[0,1]^{|\\mathcal{S}|\\cdot|\\mathcal{A}|}$)\n",
        "* a **transition function** $p: \\mathcal{S}\\times\\mathcal{A}\\rightarrow \\Delta_{\\mathcal{S}}$ (or matrix $p \\in\\mathbb{R}^{|\\mathcal{S}|\\cdot|\\mathcal{A}|\\times|\\mathcal{S}|}$)\n"
      ],
      "metadata": {
        "id": "yqPq-DrFG3se"
      }
    },
    {
      "cell_type": "markdown",
      "source": [
        "<div>\n",
        "<img src=\"https://drive.google.com/uc?export=view&id=11KyhHxuaileBEJ9fFZmIS5-GzncQgyqt\" alt=\"agent-environment interaction\" width=\"600\"/>\n",
        "</div>\n"
      ],
      "metadata": {
        "id": "PsQticuSJmdO"
      }
    },
    {
      "cell_type": "markdown",
      "source": [
        "### The Gym(nasium) interface\n",
        "\n",
        "[Gymnasium](https://gymnasium.farama.org/) is a standard API for Decision Processes, based on OpenAI's Gym library."
      ],
      "metadata": {
        "id": "ob8WriuZLh-g"
      }
    },
    {
      "cell_type": "code",
      "source": [
        "# Standard import\n",
        "import gymnasium as gym\n",
        "from gymnasium import Env"
      ],
      "metadata": {
        "id": "JgaqoJNTOi6o",
        "colab": {
          "base_uri": "https://localhost:8080/"
        },
        "outputId": "42ffead6-18ee-4f5c-ba96-371b6e602d69"
      },
      "execution_count": 2,
      "outputs": [
        {
          "output_type": "stream",
          "name": "stdout",
          "text": [
            "pygame 2.4.0 (SDL 2.26.4, Python 3.10.12)\n",
            "Hello from the pygame community. https://www.pygame.org/contribute.html\n"
          ]
        }
      ]
    },
    {
      "cell_type": "markdown",
      "source": [
        "The library also defines a number of classic benchmarks [Atari](https://gymnasium.farama.org/environments/atari/) games, [MuJoCo](https://gymnasium.farama.org/environments/mujoco/) simulations, and [ToyText](https://gymnasium.farama.org/environments/toy_text/), minimal environments for debugging.\n"
      ],
      "metadata": {
        "id": "yDwwk5BL1eRQ"
      }
    },
    {
      "cell_type": "code",
      "source": [
        "# A registered environment can be instantiated with\n",
        "env = gym.make(\"CliffWalking-v0\")\n",
        "\n",
        "# Important properties:\n",
        "print(env.action_space)\n",
        "print(env.observation_space)"
      ],
      "metadata": {
        "colab": {
          "base_uri": "https://localhost:8080/"
        },
        "id": "DlzPIsH23hpE",
        "outputId": "0681675f-b358-4fea-ff5b-60827a13e8db"
      },
      "execution_count": 3,
      "outputs": [
        {
          "output_type": "stream",
          "name": "stdout",
          "text": [
            "Discrete(4)\n",
            "Discrete(48)\n"
          ]
        }
      ]
    },
    {
      "cell_type": "markdown",
      "source": [
        "We only consider discrete state and action spaces. See the possible alternatives: `dir(gym.spaces)`\n",
        "\n",
        "Environments can be fully observable, partially, or non-stationary. All these variants fit the same environment interface.\n",
        "We should know which class our environment belongs to.\n",
        "Today, we only consider stationary MDPs (observations are states)."
      ],
      "metadata": {
        "id": "XXhGGkAI7XEh"
      }
    },
    {
      "cell_type": "markdown",
      "source": [
        "The environment interfact allows  to sample initial states and transition with `env.reset()` and `env.step(action)`. Every method is well documented (see `help(gym.Env.step)`).\n",
        "\n",
        "Try it out!"
      ],
      "metadata": {
        "id": "fNcySyOGACgZ"
      }
    },
    {
      "cell_type": "code",
      "source": [
        "observation, info = env.reset()\n",
        "print(f\"Initial observation: {observation}\")\n",
        "\n",
        "action = 0  # any action\n",
        "observation, reward, terminated, truncated, info = env.step(action)\n",
        "\n",
        "print(f\"Observation: {observation}, reward {reward}\")\n",
        "observation, reward, terminated, truncated, info = env.step(action)\n",
        "print(f\"Observation: {observation}, reward {reward}\")\n",
        "observation, reward, terminated, truncated, info = env.step(action)\n",
        "print(f\"Observation: {observation}, reward {reward}\")"
      ],
      "metadata": {
        "colab": {
          "base_uri": "https://localhost:8080/"
        },
        "id": "Wnymj388egTo",
        "outputId": "944d10e1-d7ff-421b-86b7-02bdd0b3c3a3"
      },
      "execution_count": 4,
      "outputs": [
        {
          "output_type": "stream",
          "name": "stdout",
          "text": [
            "Initial observation: 36\n",
            "Observation: 24, reward -1\n",
            "Observation: 12, reward -1\n",
            "Observation: 0, reward -1\n"
          ]
        }
      ]
    },
    {
      "cell_type": "markdown",
      "source": [
        "Custom environments can be created by subclassing the `Env` class.\n",
        "\n",
        "Environments can be also modified with wrappers. See the predefined Gymnasium [Wrappers](https://gymnasium.farama.org/api/wrappers/#gymnasium-wrappers)."
      ],
      "metadata": {
        "id": "5xffKa7UfiOC"
      }
    },
    {
      "cell_type": "markdown",
      "source": [
        "## Setting up our RL task\n",
        "\n"
      ],
      "metadata": {
        "id": "gHgub_3DH-9V"
      }
    },
    {
      "cell_type": "markdown",
      "source": [
        "We exeriment with a simple grid-world environment, based on the implementation in [minigrid](https://minigrid.farama.org/environments/minigrid/). The environment is configured and observations are transformed appropriately (you already know how)."
      ],
      "metadata": {
        "id": "_QotsgLalKv4"
      }
    },
    {
      "cell_type": "code",
      "source": [
        "from rlss_practice.environments import Room, Rooms, MinigridBase\n",
        "\n",
        "# Initializing the environment\n",
        "env = Room(\n",
        "    failure=0.0,\n",
        "    agent_start_pos=(1, 1),\n",
        "    agent_start_dir=0,\n",
        "    size=5,\n",
        ")\n",
        "print(env)"
      ],
      "metadata": {
        "colab": {
          "base_uri": "https://localhost:8080/"
        },
        "id": "dzPxVxymjlZr",
        "outputId": "65bae63a-b706-44d8-ebb7-eb322cf3ebd1"
      },
      "execution_count": 5,
      "outputs": [
        {
          "output_type": "stream",
          "name": "stdout",
          "text": [
            "WWWWW\n",
            "W>  W\n",
            "W   W\n",
            "W  GW\n",
            "WWWWW\n"
          ]
        }
      ]
    },
    {
      "cell_type": "markdown",
      "source": [
        "In the ASCII representation, > is the agent, facing right, G is the goal, and W are walls.\n",
        "\n",
        "Understand you own environment:"
      ],
      "metadata": {
        "id": "AA74pMHsl_be"
      }
    },
    {
      "cell_type": "code",
      "source": [
        "print(\"Action space:\", env.action_space)\n",
        "print(\"Observation space:\", env.observation_space, end=\"\\n\\n\")\n",
        "#print(help(MinigridBase))"
      ],
      "metadata": {
        "colab": {
          "base_uri": "https://localhost:8080/"
        },
        "id": "pY4EV-n0mH-d",
        "outputId": "27f8a93e-b36d-4d34-f873-9eb4cb0c7ec2"
      },
      "execution_count": 6,
      "outputs": [
        {
          "output_type": "stream",
          "name": "stdout",
          "text": [
            "Action space: Discrete(3)\n",
            "Observation space: MultiDiscrete([5 5 4])\n",
            "\n"
          ]
        }
      ]
    },
    {
      "cell_type": "markdown",
      "source": [
        "    class MinigridBase\n",
        "       MinigridBase(minigrid: minigrid.minigrid_env.MiniGridEnv, seed: int, failure=0.0)\n",
        "\n",
        "       Base class for minigrid environments with explicit transition and reward functions.\n",
        "\n",
        "       The agent is rewarded upon reaching the goal location.\n",
        "\n",
        "       Action space:\n",
        "\n",
        "       | Num | Name         | Action       |\n",
        "       |-----|--------------|--------------|\n",
        "       | 0   | left         | Turn left    |\n",
        "       | 1   | right        | Turn right   |\n",
        "       | 2   | forward      | Move forward |\n",
        "\n",
        "       Observation space:\n",
        "\n",
        "       | Name | Description             |\n",
        "       |------|-------------------------|\n",
        "       | x    | x coordinate            |\n",
        "       | y    | y coordinate (downward) |\n",
        "       | dir  | cardinal direction      |\n",
        "\n",
        "       The transition function is stored in `T`,\n",
        "       where `T[state][action][next_state]` is the transition probability.\n",
        "       The reward function is `R`. `R[state][action]` contains a reward."
      ],
      "metadata": {
        "id": "Tk3VBz-ZmsvM"
      }
    },
    {
      "cell_type": "markdown",
      "source": [
        "### Demo\n",
        "\n",
        "Here's a rollout loop, for a single trajectory"
      ],
      "metadata": {
        "id": "nOD43HaO2M6X"
      }
    },
    {
      "cell_type": "code",
      "source": [
        "# Test it\n",
        "done = False\n",
        "observation, info = env.reset()\n",
        "print(\"Initial observation:\", observation)\n",
        "print(env)\n",
        "\n",
        "# Steps\n",
        "while not done:\n",
        "\n",
        "    # Action selection\n",
        "    action = int(input(\"Action: \"))\n",
        "\n",
        "    # Transition\n",
        "    observation, reward, terminated, truncated, info = env.step(action)\n",
        "    done = terminated or truncated\n",
        "\n",
        "    print(f\"Observation: {observation}, reward {reward}\")\n",
        "    print(env)"
      ],
      "metadata": {
        "colab": {
          "base_uri": "https://localhost:8080/",
          "height": 365
        },
        "id": "ugRanvqJo4RW",
        "outputId": "9271c16c-144f-421d-f811-00dc2b588f59"
      },
      "execution_count": 7,
      "outputs": [
        {
          "name": "stdout",
          "output_type": "stream",
          "text": [
            "Initial observation: [1 1 0]\n",
            "WWWWW\n",
            "W>  W\n",
            "W   W\n",
            "W  GW\n",
            "WWWWW\n",
            "Action: a\n"
          ]
        },
        {
          "output_type": "error",
          "ename": "ValueError",
          "evalue": "ignored",
          "traceback": [
            "\u001b[0;31m---------------------------------------------------------------------------\u001b[0m",
            "\u001b[0;31mValueError\u001b[0m                                Traceback (most recent call last)",
            "\u001b[0;32m<ipython-input-7-b429ce4a41cd>\u001b[0m in \u001b[0;36m<cell line: 8>\u001b[0;34m()\u001b[0m\n\u001b[1;32m      9\u001b[0m \u001b[0;34m\u001b[0m\u001b[0m\n\u001b[1;32m     10\u001b[0m     \u001b[0;31m# Action selection\u001b[0m\u001b[0;34m\u001b[0m\u001b[0;34m\u001b[0m\u001b[0m\n\u001b[0;32m---> 11\u001b[0;31m     \u001b[0maction\u001b[0m \u001b[0;34m=\u001b[0m \u001b[0mint\u001b[0m\u001b[0;34m(\u001b[0m\u001b[0minput\u001b[0m\u001b[0;34m(\u001b[0m\u001b[0;34m\"Action: \"\u001b[0m\u001b[0;34m)\u001b[0m\u001b[0;34m)\u001b[0m\u001b[0;34m\u001b[0m\u001b[0;34m\u001b[0m\u001b[0m\n\u001b[0m\u001b[1;32m     12\u001b[0m \u001b[0;34m\u001b[0m\u001b[0m\n\u001b[1;32m     13\u001b[0m     \u001b[0;31m# Transition\u001b[0m\u001b[0;34m\u001b[0m\u001b[0;34m\u001b[0m\u001b[0m\n",
            "\u001b[0;31mValueError\u001b[0m: invalid literal for int() with base 10: 'a'"
          ]
        }
      ]
    },
    {
      "cell_type": "markdown",
      "source": [
        "We can define a function that performs `n_trajectories` rollouts on the environment with the given policy. We can also compute arbitrary statistics in the meanwhile."
      ],
      "metadata": {
        "id": "X910eylycXEf"
      }
    },
    {
      "cell_type": "code",
      "source": [
        "def rollouts(env, policy, n_trajectories, gamma):\n",
        "    \"\"\"Execute policy over env for n_trajectories and compute discounted return.\"\"\"\n",
        "    total_return = 0.0\n",
        "\n",
        "    # Trajectores\n",
        "    for _ in range(n_trajectories):\n",
        "\n",
        "        # Init\n",
        "        discount = 1.0\n",
        "        ret = 0.0\n",
        "        observation, info = env.reset()\n",
        "        done = False\n",
        "\n",
        "        # Steps\n",
        "        while not done:\n",
        "\n",
        "            # Action selection\n",
        "            action = policy(observation)\n",
        "\n",
        "            # Transition\n",
        "            observation, reward, terminated, truncated, info = env.step(action)\n",
        "\n",
        "            done = terminated or truncated\n",
        "            ret += reward * discount\n",
        "            discount *= gamma\n",
        "\n",
        "            if done:\n",
        "                total_return += ret\n",
        "\n",
        "    env.close()\n",
        "    return total_return / n_trajectories"
      ],
      "metadata": {
        "id": "gU1XQ-ObDqCn"
      },
      "execution_count": 7,
      "outputs": []
    },
    {
      "cell_type": "markdown",
      "source": [
        "Since we don't have a policy, yet. Let's define the uniform one."
      ],
      "metadata": {
        "id": "PmYQPLghM8cy"
      }
    },
    {
      "cell_type": "code",
      "source": [
        "class UniformPolicy():\n",
        "    def __init__(self, n_actions: int):\n",
        "        self.n_actions = n_actions\n",
        "\n",
        "    def __call__(self, observation):\n",
        "        return random.randint(0, self.n_actions-1)"
      ],
      "metadata": {
        "id": "Itk9LgVqL-DD"
      },
      "execution_count": 8,
      "outputs": []
    },
    {
      "cell_type": "code",
      "source": [
        "def make_policy(policy_dict):\n",
        "  \"\"\"Return the policy dictionary as a callable object\"\"\"\n",
        "\n",
        "  def callable_policy(observation):\n",
        "      return policy_dict[tuple(observation.tolist())]\n",
        "\n",
        "  return callable_policy"
      ],
      "metadata": {
        "id": "4KDwEt06qnHI"
      },
      "execution_count": 9,
      "outputs": []
    },
    {
      "cell_type": "markdown",
      "source": [
        "Let's try:"
      ],
      "metadata": {
        "id": "kQmcdqKt31XT"
      }
    },
    {
      "cell_type": "code",
      "source": [
        "avg_return = rollouts(\n",
        "    env=env,\n",
        "    policy=UniformPolicy(env.action_space.n),\n",
        "    n_trajectories=20,\n",
        "    gamma=0.9\n",
        ")\n",
        "print(avg_return)"
      ],
      "metadata": {
        "colab": {
          "base_uri": "https://localhost:8080/"
        },
        "id": "qXnOiHr234mn",
        "outputId": "ec15e2c4-1ac4-4fec-e9cc-a3125bae2d48"
      },
      "execution_count": 10,
      "outputs": [
        {
          "output_type": "stream",
          "name": "stdout",
          "text": [
            "0.08555241455620355\n"
          ]
        }
      ]
    },
    {
      "cell_type": "markdown",
      "source": [
        "We can also visualize the execution:"
      ],
      "metadata": {
        "id": "qpv9bGrwdtFd"
      }
    },
    {
      "cell_type": "code",
      "source": [
        "from rlss_practice.wrappers import Renderer\n",
        "visible_env = Renderer(env)"
      ],
      "metadata": {
        "id": "k7_UY2RPOb7v"
      },
      "execution_count": 11,
      "outputs": []
    },
    {
      "cell_type": "code",
      "source": [
        "avg_return = rollouts(\n",
        "    env=visible_env,\n",
        "    policy=UniformPolicy(env.action_space.n),\n",
        "    n_trajectories=1,\n",
        "    gamma=0.9\n",
        ")\n",
        "print(avg_return)"
      ],
      "metadata": {
        "colab": {
          "base_uri": "https://localhost:8080/"
        },
        "outputId": "dfc2b804-9cac-4dba-9f1a-160faeb7bd4d",
        "id": "P2CieU7A_40i"
      },
      "execution_count": 12,
      "outputs": [
        {
          "output_type": "stream",
          "name": "stdout",
          "text": [
            "0.08374754837693446\n"
          ]
        }
      ]
    },
    {
      "cell_type": "code",
      "source": [
        "visible_env.play()"
      ],
      "metadata": {
        "colab": {
          "base_uri": "https://localhost:8080/",
          "height": 181
        },
        "id": "EbdR7lQQXhXu",
        "outputId": "16abf81f-0e49-476f-cade-79209aefc526"
      },
      "execution_count": 13,
      "outputs": [
        {
          "output_type": "display_data",
          "data": {
            "text/plain": [
              "<IPython.core.display.HTML object>"
            ],
            "text/html": [
              "<video  controls autoplay> <source src=\"data:video/mp4;base64,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\" type=\"video/mp4\"> </video>"
            ]
          },
          "metadata": {}
        }
      ]
    },
    {
      "cell_type": "markdown",
      "source": [
        "### Explicit model\n",
        "\n",
        "These algorithms assume that a complete model of the environment is available, in the form of explicit transition and reward functions. This is not part of the gym interface.\n",
        "\n",
        "These two functions are stored in two members:"
      ],
      "metadata": {
        "id": "srQzHwZTe_gd"
      }
    },
    {
      "cell_type": "code",
      "source": [
        "# Transition and reward functions\n",
        "T = env.T\n",
        "R = env.R\n",
        "\n",
        "# These are represented as dictionaries (for maximum clarity)\n",
        "#   and indexed as T[state][action][next_state]\n",
        "print(\"A few probabilities\")\n",
        "print(T[(1, 1, 0)][2][(2, 1, 0)])\n",
        "print(T[(1, 1, 0)][2][(1, 1, 1)])\n",
        "print(T[(3, 1, 0)][1][(3, 1, 1)])\n",
        "\n",
        "print(\"\\nA few rewards\")\n",
        "print(R[(1, 1, 0)][2])\n",
        "print(R[(3, 3, 0)][0])"
      ],
      "metadata": {
        "colab": {
          "base_uri": "https://localhost:8080/"
        },
        "id": "DczwaYuUfqHg",
        "outputId": "9976a6a6-288f-45b2-d945-62869e977037"
      },
      "execution_count": 14,
      "outputs": [
        {
          "output_type": "stream",
          "name": "stdout",
          "text": [
            "A few probabilities\n",
            "1.0\n",
            "0.0\n",
            "1.0\n",
            "\n",
            "A few rewards\n",
            "0.0\n",
            "1.0\n"
          ]
        }
      ]
    },
    {
      "cell_type": "code",
      "source": [
        "# Explicit set of states and actions\n",
        "print(\"States\", env.states)\n",
        "print(\"Actions\", env.actions)\n",
        "print(\"Number of states\", len(env.states))\n",
        "print(\"Number of actions\", len(env.actions))"
      ],
      "metadata": {
        "colab": {
          "base_uri": "https://localhost:8080/"
        },
        "id": "lQglr5MOiDCp",
        "outputId": "1ec38fae-3048-472a-9855-a6e67ccebb8c"
      },
      "execution_count": 15,
      "outputs": [
        {
          "output_type": "stream",
          "name": "stdout",
          "text": [
            "States [(1, 1, 0), (1, 1, 1), (1, 1, 2), (1, 1, 3), (1, 2, 0), (1, 2, 1), (1, 2, 2), (1, 2, 3), (1, 3, 0), (1, 3, 1), (1, 3, 2), (1, 3, 3), (2, 1, 0), (2, 1, 1), (2, 1, 2), (2, 1, 3), (2, 2, 0), (2, 2, 1), (2, 2, 2), (2, 2, 3), (2, 3, 0), (2, 3, 1), (2, 3, 2), (2, 3, 3), (3, 1, 0), (3, 1, 1), (3, 1, 2), (3, 1, 3), (3, 2, 0), (3, 2, 1), (3, 2, 2), (3, 2, 3), (3, 3, 0), (3, 3, 1), (3, 3, 2), (3, 3, 3)]\n",
            "Actions [0, 1, 2]\n",
            "Number of states 36\n",
            "Number of actions 3\n"
          ]
        }
      ]
    },
    {
      "cell_type": "code",
      "source": [
        "# Some classic imports for the rest of the notebook\n",
        "import numpy as np\n",
        "import matplotlib.pyplot as plt\n",
        "from IPython.display import clear_output, display\n",
        "import matplotlib as mpl\n",
        "import math\n",
        "\n",
        "mpl.style.use('seaborn-v0_8')"
      ],
      "metadata": {
        "id": "XfYfq9HebRHw"
      },
      "execution_count": 16,
      "outputs": []
    },
    {
      "cell_type": "markdown",
      "source": [
        "## Solving the Grid-world task\n",
        "\n",
        "We would like to find a **stationary deterministic memoryless policy** or mapping from states to actions $\\pi : \\mathcal{S}\\rightarrow \\mathcal{A}$, that lets us arrive at the **goal state** sooner.\n",
        "\n",
        "In other words, our objective to find $\\pi$ which maximizes the **discounted return** from any starting state represented by:\n",
        "\n",
        "\\begin{align*}\n",
        "    \\rho(\\pi) &= \\mathbb{E}_{s_0\\sim\\nu_0, s_{t+1}\\sim p(\\cdot|s_t,\\pi(s_t))}\\left[\\sum_{t=0}^\\infty\\gamma^t r(s_t,\\pi(s_t))\\right]\\\\\n",
        "    &= \\sum_{s}\\nu_0(s) V^{\\pi}(s)\n",
        "\\end{align*}\n",
        "\n",
        "with the **discount factor** $\\gamma\\in[0,1)$.\n",
        "\n",
        "\n",
        "&nbsp;\n",
        "\n",
        "---\n",
        "\n",
        "&nbsp;\n",
        "\n",
        "Recall that the **state value function** for $s\\in \\mathcal{S}$ denoted\n",
        "\n",
        "\\begin{align*}\n",
        "    V^\\pi(s) &= \\mathbb{E}_{s_{t+1}\\sim p(\\cdot|s_t,\\pi(s_t))}\\left[\\sum_{t=0}^\\infty\\gamma^t r(s_t,\\pi(s_t))\\bigg|s_0=s\\right]\\\\\n",
        "    &=  \\sum_{a}\\pi(a|s)Q^{\\pi}(s,a)\n",
        "\\end{align*}\n",
        "\n",
        "represents the value of being in state $x$ and following policy $\\pi$ while the **action-value function** for $x\\in \\mathcal{S}, a\\in \\mathcal{A}$ denoted\n",
        "\n",
        "$$ Q^\\pi(s,a) = r(s,a) + \\gamma\\sum_{s'\\in\\mathcal{S}}p(s'|s,a)V^{\\pi}(s')$$\n",
        "\n",
        "is the value of first taking action $a=\\pi(s)$ in state $s$ then following policy $\\pi$.\n",
        "\n",
        "By standard notation, the **Bellman operator** of policy $\\pi$ acting on functions $V : \\mathcal{S}\\rightarrow \\mathbb{R}$ (or vectors $V\\in\\mathbb{R}^{|\\mathcal{S}|}$) is given as:\n",
        "\n",
        "$$(T^{\\pi}V)(s) =  \\sum_{a}\\pi(a|s)\\bigg[r(s,a) + \\gamma\\sum_{s'\\in\\mathcal{S}}p(s'|s,a)V(s')\\bigg],\\quad s\\in\\mathcal{S}$$\n",
        "\n",
        "\n",
        "&nbsp;\n",
        "\n",
        "---\n",
        "\n",
        "&nbsp;\n",
        "\n",
        "Ideally, we would like to find an **optimal policy** $\\pi^*$ with:\n",
        "\n",
        "$$ \\pi^*(s) \\in \\underset{a\\in\\mathcal{A}}{\\arg\\max} \\bigg\\{r(s,a) + \\gamma\\sum_{s'\\in\\mathcal{S}}p(s'|s,a)V^{\\pi^*}(s')\\bigg\\},\\quad x\\in\\mathcal{S}$$\n",
        "\n",
        "that maximizes our immediate reward and future return.\n",
        "\n",
        "The Bellman operator of $\\pi^*$ (a.k.a the **Bellman optimality operator**) acting on functions $V : \\mathcal{S}\\rightarrow \\mathbb{R}$ (or vectors $V\\in\\mathbb{R}^{|\\mathcal{S}|}$) is given as:\n",
        "\n",
        "$$(T^{*}V)(s) =  \\max_{a}\\bigg\\{r(s,a) + \\gamma\\sum_{s'\\in\\mathcal{S}}p(s'|s,a)V(s')\\bigg\\},\\quad s\\in\\mathcal{S}$$\n",
        "\n",
        "\n",
        "&nbsp;\n",
        "\n",
        "---\n",
        "\n",
        "&nbsp;\n",
        "\n",
        "With the transition and reward function of the grid-world task available to us, we attempt to find an optimal policy via **Dynamic programming**. Precisely, we implement **Policy Iteration** and **Value iteration** methods introduced in the first lecture.\n",
        "\n",
        "&nbsp;"
      ],
      "metadata": {
        "id": "8L7zlYG8WcPq"
      }
    },
    {
      "cell_type": "markdown",
      "source": [
        "### Policy Iteration (PI) Recap\n",
        "\n",
        "**Idea**\n",
        "\n",
        "Gradually advance to $\\pi^{*}$ from an initial guess $\\pi_0$ through a series of **policy evaluation** and **policy improvement** steps.\n",
        "\n",
        "&nbsp;\n",
        "\n",
        "**Policy Evaluation step**\n",
        "\n",
        "Given a policy $\\pi_k$, compute $V^{\\pi_k}$ as\n",
        "\n",
        "* $V^{\\pi_k} = (I - \\gamma\\, p_{\\pi_k})^{-1}r_{\\pi_k}$\n",
        "\n",
        "or estimate $V^{\\pi_k}$ as $V_{k}$ with the following iterations\n",
        "\n",
        "  * Initialize $V$ as $\\mathbf{0}$ when $k = 0$ and $V_{k-1}$ otherwise, let $\\pi = \\pi_k$\n",
        "\n",
        "    <div>\n",
        "    <img src=\"https://drive.google.com/uc?export=view&id=1QaMg7a6HELjYycAnm6RE9vnzHD_fnaCn\" alt=\"iterative policy evaluation\" width=\"600\"/>\n",
        "    </div>\n",
        "\n",
        "    Return $V_k = V$. <!--$(T^{\\pi_{k}})^{n_{k}}V_{k-1}$-->\n",
        "\n",
        "&nbsp;\n",
        "\n",
        "**Policy Improvement step**\n",
        "\n",
        "Obtain $\\pi_{k+1}$ as the greedy policy w.r.t $V^{\\pi_k}$ (or $V_{k}$). That is,\n",
        "$$ \\pi_{k+1}(s) \\in \\underset{a\\in\\mathcal{A}}{\\arg\\max} \\bigg\\{r(s,a) + \\gamma\\sum_{s'\\in\\mathcal{X}}p(s'|s,a)V^{\\pi_{k}}(s')\\bigg\\},\\quad s\\in\\mathcal{S}$$\n",
        "\n",
        "&nbsp;\n",
        "\n",
        "#### Putting everything together\n",
        "\n",
        "Starting from an arbitrary stationary deterministic markovian policy $\\pi_{0}$, for $k = 0,1,2,\\cdots, K$ do:\n",
        "* Compute $V^{\\pi_k}$ or estimate $V^{\\pi_k}$ with $V_{k}=(T^{\\pi_{k}})^{n_{k}}V_{k-1}$\n",
        "* Obtain $\\pi_{k+1}$ as the greedy policy w.r.t $V^{\\pi_k}$\n",
        "\n",
        "\n",
        "\n",
        "&nbsp;\n",
        "\n",
        "#### Theoretical guarantee\n",
        "\n",
        "PI with \"exact\" policy evaluation steps finds an optimal policy after $K = \\mathcal{\\tilde{O}}((\\mathcal{SA - S})/(1-\\gamma))$ iterations.\n",
        "\n",
        "\n",
        "&nbsp;\n",
        "\n",
        "#### Notation\n",
        "\n",
        "*   $r_{\\pi}\\in\\mathbb{R}^{|\\mathcal{S}|}$ so that for $s\\in\\mathcal{S}$, $r_{\\pi}(s) = r(s,\\pi(s))$.\n",
        "*   $p_{\\pi}\\in\\mathbb{R}^{|\\mathcal{S}|\\times|\\mathcal{S}|}$ so that for $s,s'\\in\\mathcal{S}$, $p_{\\pi}(s'|s) = p(s'|s,\\pi(s))$.\n",
        "*   $n_{k}$ is the number of loops required to compute $V_{k}$"
      ],
      "metadata": {
        "id": "6nljnBe4bZTf"
      }
    },
    {
      "cell_type": "code",
      "source": [
        "# Don't look at these solutions! This module contains the functions you should write\n",
        "from rlss_practice import solutions1"
      ],
      "metadata": {
        "id": "GPcbb_PDzRip"
      },
      "execution_count": 17,
      "outputs": []
    },
    {
      "cell_type": "code",
      "source": [
        "class PolicyIteration1:\n",
        "  \"\"\"\n",
        "  Implements policy iteration with exact policy evaluation\n",
        "  \"\"\"\n",
        "  def __init__(self, env: Env, discount_factor: float, initial_policy = None):\n",
        "    # Store\n",
        "    self.env = env\n",
        "    self.states = self.env.states\n",
        "    self.n_states = len(self.states)\n",
        "    self.actions = self.env.actions\n",
        "    self.n_actions = len(self.actions)\n",
        "    self.gamma = discount_factor\n",
        "    self.policy = initial_policy\n",
        "\n",
        "    # Default policy\n",
        "    if self.policy == None:\n",
        "      np.random.seed(4)\n",
        "      self.policy = {state: np.random.randint(0, self.n_actions-1) for state in self.states}\n",
        "\n",
        "    self.policy_stable = False\n",
        "    self.V = {state: 0.0 for state in env.states}\n",
        "    self.V_logs = []\n",
        "\n",
        "  def _evaluate_policy(self):\n",
        "    \"\"\"\n",
        "    Given π_{k} compute V^{π_{k}} = (I - \\gamma p_{π_{k}})^{-1}r_{π_{k}}.\n",
        "    \"\"\"\n",
        "    # TODO: solve this and delete the next line\n",
        "    return solutions1.PolicyIteration1._evaluate_policy(self)\n",
        "\n",
        "  def evaluate_policy(self):\n",
        "    \"\"\"\n",
        "    Given π_{k} compute V^{π_{k}} = (I - \\gamma p_{π_{k}})^{-1}r_{π_{k}}.\n",
        "    \"\"\"\n",
        "    V_array = self._evaluate_policy()\n",
        "\n",
        "    self.V = {state: V_array[i].item() for i, state in enumerate(self.states)}\n",
        "    self.V_logs.append(self.V.copy())\n",
        "\n",
        "\n",
        "  def get_policy(self):\n",
        "    \"\"\"\n",
        "    Compute the greedy policy:\n",
        "      π_{k+1}(s) = argmax_{a\\in A} Q^{\\pi_{k}}(s,a)\n",
        "    where\n",
        "      Q^{\\pi_{k}}(s,a) = R(s,a) + gamma * <P(.|s,a),V^{\\pi_{k}}>\n",
        "    is the state-action value.\n",
        "    \"\"\"\n",
        "    # TODO: Solve this and delete the next line\n",
        "    solutions1.PolicyIteration1.get_policy(self)\n",
        "\n",
        "\n",
        "  def get_expected_update(self, state, action):\n",
        "    \"\"\"\n",
        "    Compute Bellman update at a state-action pair.\n",
        "\n",
        "    input:\n",
        "    state\n",
        "    action\n",
        "    discount factor (gamma)\n",
        "    state values (state_values)\n",
        "\n",
        "    output:\n",
        "    r(s,a) + gamma <P(.|s,a),v>\n",
        "    \"\"\"\n",
        "    # TODO: Solve this and delete the next line\n",
        "    return solutions1.PolicyIteration1.get_expected_update(self, state, action)\n",
        "\n",
        "\n",
        "  def get_p_pi(self):\n",
        "    \"\"\"\n",
        "    Given π_{k}, compute p_{π_{k}}\n",
        "    \"\"\"\n",
        "    p_pi = np.zeros((self.n_states,self.n_states))\n",
        "\n",
        "    for s_index, s in enumerate(self.states):\n",
        "      for snext_index, snext in enumerate(self.states):\n",
        "        p_pi[s_index, snext_index] = self.env.T[s][self.policy[s]][snext]\n",
        "\n",
        "    return p_pi\n",
        "\n",
        "\n",
        "  def get_r_pi(self):\n",
        "    \"\"\"\n",
        "    Given π_{k}, compute r_{π_{k}}\n",
        "    \"\"\"\n",
        "    r_pi = np.zeros((self.n_states,1))\n",
        "\n",
        "    for i, state in enumerate(self.states):\n",
        "      r_pi[i][0] = self.env.R[state][self.policy[state]]\n",
        "\n",
        "    return r_pi"
      ],
      "metadata": {
        "id": "Woh49RAfbieB"
      },
      "execution_count": 18,
      "outputs": []
    },
    {
      "cell_type": "code",
      "source": [
        "class PolicyIteration2(PolicyIteration1):\n",
        "  \"\"\"\n",
        "  Implements policy iteration with iterative policy evaluation\n",
        "  \"\"\"\n",
        "  def __init__(self,\n",
        "              env: Env,\n",
        "              discount_factor: float,\n",
        "              theta: float,\n",
        "              initial_policy = None):\n",
        "\n",
        "    super().__init__(env, discount_factor, initial_policy)\n",
        "    self.theta = theta\n",
        "    self.V = {state: 0.0 for state in env.states}\n",
        "\n",
        "\n",
        "  def _evaluate_policy(self):\n",
        "    \"\"\"\n",
        "    Starting from previous value estimate V_{k-1}\n",
        "    estimate value of policy π_{k} by recursively applying\n",
        "    the Bellman operator of the policy T^π_{k} to V_{k-1} until update is stable.\n",
        "    \"\"\"\n",
        "    # TODO: Solve this and delete the next line\n",
        "    solutions1.PolicyIteration2._evaluate_policy(self)\n",
        "\n",
        "\n",
        "  def evaluate_policy(self):\n",
        "    \"\"\"\n",
        "    Starting from previous value estimate V_{k-1}\n",
        "    estimate value of policy π_{k} by recursively applying\n",
        "    the Bellman operator of the policy T^π_{k} to V_{k-1} until update is stable.\n",
        "    \"\"\"\n",
        "    # TODO: Solve this and delete the next line\n",
        "    self._evaluate_policy()\n",
        "\n",
        "    self.V_logs.append(self.V.copy())"
      ],
      "metadata": {
        "id": "nFkMVMI3syvt"
      },
      "execution_count": 19,
      "outputs": []
    },
    {
      "cell_type": "markdown",
      "source": [
        "### Value Iteration (VI) Recap\n",
        "\n",
        "**Idea**\n",
        "\n",
        "Gradually advance to $\\pi^{*}$ with a single **iterative policy evaluation** step and **policy improvement**.\n",
        "\n",
        "&nbsp;\n",
        "\n",
        "**Policy Evaluation step**\n",
        "\n",
        "No arbitrary starting policy needed. Estimate $V^{\\pi^*}$ as follows:\n",
        "\n",
        "  * For $k = 0,1,2,\\cdots, K$\n",
        "\n",
        "    * Set $V = \\mathbf{0}$ when $k = 0$ and $V_{k-1}$ otherwise\n",
        "      <div>\n",
        "      <img src=\"https://drive.google.com/uc?export=view&id=1fsi3ZZgqZ-p061AxvSdeluWZTlwSjnGj\" alt=\"iterative policy evaluation\" width=\"400\"/>\n",
        "      </div>\n",
        "\n",
        "      return $V$ as $V_{k}$.\n",
        "\n",
        "&nbsp;\n",
        "\n",
        "**Policy Improvement step**\n",
        "\n",
        "Obtain $\\hat{\\pi}^{*}$ as the greedy policy w.r.t $V_{K}$. That is,\n",
        "\n",
        "  $$ \\hat{\\pi}^{*}(s) \\in \\underset{a\\in\\mathcal{A}}{\\arg\\max} \\bigg\\{r(s,a) + \\gamma\\sum_{s'\\in\\mathcal{X}}p(s'|s,a)V_{K}(s')\\bigg\\},\\quad s\\in\\mathcal{S}$$\n",
        "\n",
        "&nbsp;\n",
        "\n",
        "#### Putting everything together\n",
        "\n",
        "* Estimate $V^{\\pi^*}$ with $V_{K} = (T^*)^{K}\\mathbf{0}$\n",
        "* Obtain $\\hat{\\pi}^{*}$ as the greedy policy w.r.t $V_{K}$\n",
        "\n",
        "\n",
        "\n",
        "&nbsp;\n",
        "\n",
        "#### Theoretical guarantee\n",
        "\n",
        "VI finds an **$\\mathbf{\\varepsilon}$-optimal policy** ($\\pi^{\\varepsilon}$) satisfying\n",
        "\n",
        "$\\qquad V^* - V^{\\pi^{\\varepsilon}}\\leq \\varepsilon\\, e$\n",
        "\n",
        "after $K = \\mathcal{O}(\\ln(2\\gamma/\\varepsilon(1-\\gamma)^2)/(1-\\gamma))$ iterations.\n"
      ],
      "metadata": {
        "id": "IA8AkX2Feuwt"
      }
    },
    {
      "cell_type": "code",
      "source": [
        "class ValueIteration:\n",
        "  \"\"\"\n",
        "  Implements value iteration\n",
        "  \"\"\"\n",
        "  def __init__(self,\n",
        "              env: Env,\n",
        "              discount_factor: float,\n",
        "              epsilon: float,\n",
        "              num_iterations = None,\n",
        "  ):\n",
        "    self.env = env\n",
        "    self.states = self.env.states\n",
        "    self.n_states = len(self.states)\n",
        "    self.actions = self.env.actions\n",
        "    self.n_actions = len(self.actions)\n",
        "    self.gamma = discount_factor\n",
        "    self.K = num_iterations\n",
        "    self.V_logs = []\n",
        "\n",
        "    if self.K is None:\n",
        "      self.K = math.ceil(np.log((2*self.gamma)/(epsilon*(1-self.gamma)**2))/(1-self.gamma))\n",
        "\n",
        "    self.policy = {state: 0 for state in self.env.states}\n",
        "    self.V = {state: 0 for state in self.env.states}\n",
        "\n",
        "\n",
        "  def _evaluate_policy(self):\n",
        "    \"\"\"\n",
        "    Starting from an arbitrary value V_0(s) = 0 for s in S\n",
        "    estimate the V^π* by recursively applying\n",
        "    the Bellman optimality operator of the policy T^* to V_0 for K steps.\n",
        "    \"\"\"\n",
        "    # TODO: solve this and delete the next line\n",
        "    solutions1.ValueIteration._evaluate_policy(self)\n",
        "\n",
        "\n",
        "  def evaluate_policy(self):\n",
        "    \"\"\"\n",
        "    Starting from an arbitrary value V_0(s) = 0 for s in S\n",
        "    estimate the V^π* by recursively applying\n",
        "    the Bellman optimality operator of the policy T^* to V_0 for K steps.\n",
        "    \"\"\"\n",
        "    self._evaluate_policy()\n",
        "    self.V_logs.append(self.V.copy())\n",
        "\n",
        "\n",
        "  def get_policy(self):\n",
        "    \"\"\"\n",
        "    Update policy to be the greedy policy:\n",
        "      π(s) = argmax_{a\\in A} Q(s,a)\n",
        "    where\n",
        "      Q(s,a) = R(s,a) + gamma*<P(.|s,a),v>\n",
        "    is the state-action value.\n",
        "    \"\"\"\n",
        "    # Same as for PI\n",
        "    return PolicyIteration1.get_policy(self)\n",
        "\n",
        "\n",
        "  def get_expected_update(self, state, action):\n",
        "    \"\"\"\n",
        "    Compute Bellman update at a state-action pair.\n",
        "\n",
        "    input:\n",
        "    state\n",
        "    action\n",
        "    discount factor (gamma)\n",
        "    state values (state_values)\n",
        "\n",
        "    output:\n",
        "    r(s,a) + gamma <P(.|s,a),v>\n",
        "    \"\"\"\n",
        "    # Same as for PI\n",
        "    return PolicyIteration1.get_expected_update(self, state, action)"
      ],
      "metadata": {
        "id": "cWtqSTiD9Kko"
      },
      "execution_count": 20,
      "outputs": []
    },
    {
      "cell_type": "markdown",
      "source": [
        "### Run and test"
      ],
      "metadata": {
        "id": "2nuH15i1W4qr"
      }
    },
    {
      "cell_type": "code",
      "source": [
        "discount_factor = 0.9\n",
        "epsilon = 0.01\n",
        "\n",
        "# Run iteration with exact policy evaluation step\n",
        "PI_planner1 = PolicyIteration1(env, discount_factor)\n",
        "\n",
        "while not PI_planner1.policy_stable:\n",
        "  PI_planner1.evaluate_policy()\n",
        "  PI_planner1.get_policy()"
      ],
      "metadata": {
        "id": "yyFqB2DG5Alo"
      },
      "execution_count": 21,
      "outputs": []
    },
    {
      "cell_type": "markdown",
      "source": [
        "Visualization"
      ],
      "metadata": {
        "id": "rQkER_MsJiCK"
      }
    },
    {
      "cell_type": "code",
      "source": [
        "def visualize(vlogs, state, grid_size):\n",
        "  grid_size -= 2   # walls\n",
        "\n",
        "  # Initial state values\n",
        "  fig1 = plt.figure(figsize=(4, 3))\n",
        "  ax1 = fig1.subplots()\n",
        "  ax1.set_ylabel(\"value of (1,1,0)\")\n",
        "  ax1.set_xlabel(\"iterations\")\n",
        "  initial_state_values = [value[(1, 1, 0)] for value in PI_planner1.V_logs]\n",
        "  ax1.plot(range(len(initial_state_values)), initial_state_values)\n",
        "\n",
        "  # States values over time\n",
        "  some_values_over_time = [\n",
        "    {(x, y): values[(x, y, o)] for (x, y, o) in env.states if o == 0}  # o is a fixed agent orientation\n",
        "    for values in vlogs\n",
        "  ]\n",
        "  values_over_time = [\n",
        "    np.array([[values[(x+1, y+1)] for x in range(grid_size)] for y in range(grid_size)])\n",
        "    for values in some_values_over_time\n",
        "  ]\n",
        "  vmids = [(values.max() + values.min()) / 2 for values in values_over_time]\n",
        "  vmin = min([values.min() for values in values_over_time])\n",
        "  vmax = max([values.max() for values in values_over_time])\n",
        "\n",
        "  steps = len(values_over_time)\n",
        "  fig2 = plt.figure(figsize=(4 * steps, 3))\n",
        "  axs2 = fig2.subplots(1, steps)\n",
        "  if isinstance(axs2, plt.Axes):\n",
        "    axs2 = [axs2]\n",
        "    multistep = False\n",
        "  else:\n",
        "    multistep = True\n",
        "\n",
        "  for i, ax in enumerate(axs2):\n",
        "    ax.set_title(f\"values at step {i}\" if multistep else \"values\")\n",
        "    ax.imshow(values_over_time[i], cmap=\"Blues\", vmin=vmin, vmax=vmax)\n",
        "    ax.xaxis.set_visible(False)\n",
        "    ax.yaxis.set_visible(False)\n",
        "    for x in range(grid_size):\n",
        "      for y in range(grid_size):\n",
        "        val = values_over_time[i][y,x]\n",
        "        ax.text(x, y, f\"{val:.2f}\", ha=\"center\", va=\"center\", color=\"w\" if val > vmids[i] else \"k\")"
      ],
      "metadata": {
        "id": "6btXwfrRJev2"
      },
      "execution_count": 22,
      "outputs": []
    },
    {
      "cell_type": "code",
      "source": [
        "visualize(PI_planner1.V_logs, (1, 1, 0), 5)"
      ],
      "metadata": {
        "colab": {
          "base_uri": "https://localhost:8080/",
          "height": 530
        },
        "id": "XvCmq5bQQqEi",
        "outputId": "a7a56f40-02db-4714-e5d2-124f90f67e3d"
      },
      "execution_count": 23,
      "outputs": [
        {
          "output_type": "display_data",
          "data": {
            "text/plain": [
              "<Figure size 400x300 with 1 Axes>"
            ],
            "image/png": "[encoded data removed]"
          },
          "metadata": {}
        },
        {
          "output_type": "display_data",
          "data": {
            "text/plain": [
              "<Figure size 2400x300 with 6 Axes>"
            ],
            "image/png": "[encoded data removed]"
          },
          "metadata": {}
        }
      ]
    },
    {
      "cell_type": "markdown",
      "source": [
        "We can also test the policy."
      ],
      "metadata": {
        "id": "meYQb9VOTnDT"
      }
    },
    {
      "cell_type": "code",
      "source": [
        "avg_return = rollouts(\n",
        "    env=visible_env,\n",
        "    policy=make_policy(PI_planner1.policy),\n",
        "    n_trajectories=20,\n",
        "    gamma=0.9\n",
        ")\n",
        "print(avg_return)"
      ],
      "metadata": {
        "colab": {
          "base_uri": "https://localhost:8080/"
        },
        "id": "3C-WmCiVT6op",
        "outputId": "1df8fa4e-d9aa-4a7f-82a0-9a0f53890f6b"
      },
      "execution_count": 24,
      "outputs": [
        {
          "output_type": "stream",
          "name": "stdout",
          "text": [
            "5.853362247926798\n"
          ]
        }
      ]
    },
    {
      "cell_type": "code",
      "source": [
        "visible_env.play()"
      ],
      "metadata": {
        "colab": {
          "base_uri": "https://localhost:8080/",
          "height": 181
        },
        "id": "LGxMz5yZEZ-N",
        "outputId": "ed693fc2-0fdf-4025-b484-0c6862fbfc4e"
      },
      "execution_count": 25,
      "outputs": [
        {
          "output_type": "display_data",
          "data": {
            "text/plain": [
              "<IPython.core.display.HTML object>"
            ],
            "text/html": [
              "<video  controls autoplay> <source src=\"data:video/mp4;base64,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\" type=\"video/mp4\"> </video>"
            ]
          },
          "metadata": {}
        }
      ]
    },
    {
      "cell_type": "markdown",
      "source": [
        "What if we have failure probabilities now?"
      ],
      "metadata": {
        "id": "ymYjjFBYbiy-"
      }
    },
    {
      "cell_type": "code",
      "source": [
        "# Define\n",
        "env = Room(\n",
        "    failure=0.2,\n",
        "    agent_start_pos=(1, 1),\n",
        "    agent_start_dir=1,\n",
        "    size=6,\n",
        ")\n",
        "visible_env = Renderer(env)\n",
        "print(env)\n",
        "\n",
        "# Plan\n",
        "PI_planner1 = PolicyIteration1(env, discount_factor)\n",
        "while not PI_planner1.policy_stable:\n",
        "  PI_planner1.evaluate_policy()\n",
        "  PI_planner1.get_policy()\n"
      ],
      "metadata": {
        "colab": {
          "base_uri": "https://localhost:8080/"
        },
        "id": "8EcH0mS2bt1N",
        "outputId": "92da8fa0-88a7-4c66-9701-d2d0e2505c57"
      },
      "execution_count": 26,
      "outputs": [
        {
          "output_type": "stream",
          "name": "stdout",
          "text": [
            "WWWWWW\n",
            "WV   W\n",
            "W    W\n",
            "W    W\n",
            "W   GW\n",
            "WWWWWW\n"
          ]
        },
        {
          "output_type": "stream",
          "name": "stderr",
          "text": [
            "/usr/local/lib/python3.10/dist-packages/gymnasium/wrappers/record_video.py:87: UserWarning: \u001b[33mWARN: Overwriting existing videos at /content/video-out folder (try specifying a different `video_folder` for the `RecordVideo` wrapper if this is not desired)\u001b[0m\n",
            "  logger.warn(\n"
          ]
        }
      ]
    },
    {
      "cell_type": "code",
      "source": [
        "# Visualize\n",
        "avg_return = rollouts(\n",
        "    env=visible_env,\n",
        "    policy=make_policy(PI_planner1.policy),\n",
        "    n_trajectories=20,\n",
        "    gamma=0.9\n",
        ")\n",
        "print(avg_return)"
      ],
      "metadata": {
        "colab": {
          "base_uri": "https://localhost:8080/"
        },
        "id": "gvuqeY88cCW2",
        "outputId": "1128acc0-7788-4167-ed4b-899bc5fe1d68"
      },
      "execution_count": 27,
      "outputs": [
        {
          "output_type": "stream",
          "name": "stdout",
          "text": [
            "3.8904901527666516\n"
          ]
        }
      ]
    },
    {
      "cell_type": "code",
      "source": [
        "visible_env.play()\n",
        "\n",
        "visualize(PI_planner1.V_logs, (1, 1, 1), 6)"
      ],
      "metadata": {
        "colab": {
          "base_uri": "https://localhost:8080/",
          "height": 779
        },
        "id": "I-hHn_KXcKaS",
        "outputId": "9e29071a-d0cf-4bf5-f48b-3b088a82ced1"
      },
      "execution_count": 28,
      "outputs": [
        {
          "output_type": "display_data",
          "data": {
            "text/plain": [
              "<IPython.core.display.HTML object>"
            ],
            "text/html": [
              "<video  controls autoplay> <source src=\"data:video/mp4;base64,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\" type=\"video/mp4\"> </video>"
            ]
          },
          "metadata": {}
        },
        {
          "output_type": "display_data",
          "data": {
            "text/plain": [
              "<Figure size 400x300 with 1 Axes>"
            ],
            "image/png": "[encoded data removed]"
          },
          "metadata": {}
        },
        {
          "output_type": "display_data",
          "data": {
            "text/plain": [
              "<Figure size 1200x300 with 3 Axes>"
            ],
            "image/png": "[encoded data removed]"
          },
          "metadata": {}
        }
      ]
    },
    {
      "cell_type": "markdown",
      "source": [
        "Now we run policy iteration with the approximate policy evaluation step"
      ],
      "metadata": {
        "id": "KofhGOYGhckf"
      }
    },
    {
      "cell_type": "code",
      "source": [
        "theta = 0.1\n",
        "PI_planner2 = PolicyIteration2(env, discount_factor, theta)\n",
        "\n",
        "while not PI_planner2.policy_stable:\n",
        "  PI_planner2.evaluate_policy()\n",
        "  PI_planner2.get_policy()"
      ],
      "metadata": {
        "id": "D9uBUwD-hhSF"
      },
      "execution_count": 29,
      "outputs": []
    },
    {
      "cell_type": "code",
      "source": [
        "avg_return = rollouts(\n",
        "    env=visible_env,\n",
        "    policy=make_policy(PI_planner2.policy),\n",
        "    n_trajectories=10,\n",
        "    gamma=0.9\n",
        ")\n",
        "print(avg_return)"
      ],
      "metadata": {
        "colab": {
          "base_uri": "https://localhost:8080/"
        },
        "id": "70ieiSAZqR6H",
        "outputId": "59a7854f-bff0-41ad-d6f1-05f8688271f6"
      },
      "execution_count": 30,
      "outputs": [
        {
          "output_type": "stream",
          "name": "stdout",
          "text": [
            "3.7394708406924493\n"
          ]
        }
      ]
    },
    {
      "cell_type": "code",
      "source": [
        "visible_env.play()\n",
        "\n",
        "visualize(PI_planner2.V_logs, (1, 1, 1), 6)"
      ],
      "metadata": {
        "colab": {
          "base_uri": "https://localhost:8080/",
          "height": 779
        },
        "id": "cCueLRiiqvaQ",
        "outputId": "cb74fe5c-99f5-423f-f796-8478c034a08a"
      },
      "execution_count": 31,
      "outputs": [
        {
          "output_type": "display_data",
          "data": {
            "text/plain": [
              "<IPython.core.display.HTML object>"
            ],
            "text/html": [
              "<video  controls autoplay> <source src=\"data:video/mp4;base64,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\" type=\"video/mp4\"> </video>"
            ]
          },
          "metadata": {}
        },
        {
          "output_type": "display_data",
          "data": {
            "text/plain": [
              "<Figure size 400x300 with 1 Axes>"
            ],
            "image/png": "[encoded data removed]"
          },
          "metadata": {}
        },
        {
          "output_type": "display_data",
          "data": {
            "text/plain": [
              "<Figure size 1200x300 with 3 Axes>"
            ],
            "image/png": "[encoded data removed]"
          },
          "metadata": {}
        }
      ]
    },
    {
      "cell_type": "markdown",
      "source": [
        "Finally, we also plan with Value Iteration."
      ],
      "metadata": {
        "id": "M7DXuWm3v82W"
      }
    },
    {
      "cell_type": "code",
      "source": [
        "VI_planner = ValueIteration(env, discount_factor, epsilon)\n",
        "\n",
        "VI_planner.evaluate_policy()\n",
        "VI_planner.get_policy()"
      ],
      "metadata": {
        "id": "BFFnzxCfaS-E"
      },
      "execution_count": 32,
      "outputs": []
    },
    {
      "cell_type": "code",
      "source": [
        "avg_return = rollouts(\n",
        "    env=visible_env,\n",
        "    policy=make_policy(VI_planner.policy),\n",
        "    n_trajectories=20,\n",
        "    gamma=0.9\n",
        ")\n",
        "print(avg_return)"
      ],
      "metadata": {
        "id": "dgj9qrYohLWm",
        "colab": {
          "base_uri": "https://localhost:8080/"
        },
        "outputId": "011aaf25-1a54-43b8-8780-7dab1a8e3222"
      },
      "execution_count": 33,
      "outputs": [
        {
          "output_type": "stream",
          "name": "stdout",
          "text": [
            "3.7957850802296584\n"
          ]
        }
      ]
    },
    {
      "cell_type": "code",
      "source": [
        "visible_env.play()\n",
        "\n",
        "visualize(VI_planner.V_logs, (1, 1, 0), 6)"
      ],
      "metadata": {
        "colab": {
          "base_uri": "https://localhost:8080/",
          "height": 779
        },
        "id": "QY-Vrp5J0gDC",
        "outputId": "126baa85-32d5-4a05-9f3c-d728b979d1bf"
      },
      "execution_count": 34,
      "outputs": [
        {
          "output_type": "display_data",
          "data": {
            "text/plain": [
              "<IPython.core.display.HTML object>"
            ],
            "text/html": [
              "<video  controls autoplay> <source src=\"data:video/mp4;base64,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\" type=\"video/mp4\"> </video>"
            ]
          },
          "metadata": {}
        },
        {
          "output_type": "display_data",
          "data": {
            "text/plain": [
              "<Figure size 400x300 with 1 Axes>"
            ],
            "image/png": "[encoded data removed]"
          },
          "metadata": {}
        },
        {
          "output_type": "display_data",
          "data": {
            "text/plain": [
              "<Figure size 400x300 with 1 Axes>"
            ],
            "image/png": "[encoded data removed]"
          },
          "metadata": {}
        }
      ]
    },
    {
      "cell_type": "markdown",
      "source": [
        "Credit:\n",
        "\n",
        "*   Bruno Scherrer, \"a lecture on Markov Decision Processes and Dynamic Programming\", June 2023, [link text](https://)\n",
        "*   Csaba Szepesvári \"a lecture series on Theoretical Foundations of Reinforcement Learning\", 2020, [RL Theory course](https://rltheory.github.io/)\n",
        "*   Richard S. Sutton, Andrew G. Barto \"Reinforcement Learning: An Introduction\", second edition, 2020, [Book](http://incompleteideas.net/book/RLbook2020.pdf)\n",
        "\n",
        "\n",
        "\n"
      ],
      "metadata": {
        "id": "XqJPFe6f6gFV"
      }
    }
  ]
}